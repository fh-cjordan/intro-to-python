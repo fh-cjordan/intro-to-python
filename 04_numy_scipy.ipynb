{
 "cells": [
  {
   "cell_type": "markdown",
   "metadata": {},
   "source": [
    "<h1>Useful Analysis Libaries</h1>\n",
    "<b>numpy</b> is useful for doing all sorts of numerical analysis, including linear algebra and statistics.\n",
    "<br/>\n",
    "<b>scipy</b> and <b>sklearn</b> uses numpy types and includes more advanced utilities, like machine learning.\n",
    "<br/>\n",
    "<b>pandas</b> has useful utilities for querying tables loaded from CSVs or even from sqlite."
   ]
  },
  {
   "cell_type": "code",
   "execution_count": 1,
   "metadata": {},
   "outputs": [],
   "source": [
    "import numpy\n",
    "import os\n",
    "import scipy\n",
    "import pandas"
   ]
  },
  {
   "cell_type": "code",
   "execution_count": 2,
   "metadata": {},
   "outputs": [],
   "source": [
    "with open(os.path.join('../data/examples.csv')) as f:\n",
    "    data_frame = pandas.read_csv(f)"
   ]
  },
  {
   "cell_type": "code",
   "execution_count": 3,
   "metadata": {},
   "outputs": [
    {
     "data": {
      "text/html": [
       "<div>\n",
       "<style scoped>\n",
       "    .dataframe tbody tr th:only-of-type {\n",
       "        vertical-align: middle;\n",
       "    }\n",
       "\n",
       "    .dataframe tbody tr th {\n",
       "        vertical-align: top;\n",
       "    }\n",
       "\n",
       "    .dataframe thead th {\n",
       "        text-align: right;\n",
       "    }\n",
       "</style>\n",
       "<table border=\"1\" class=\"dataframe\">\n",
       "  <thead>\n",
       "    <tr style=\"text-align: right;\">\n",
       "      <th></th>\n",
       "      <th>name</th>\n",
       "      <th>fpid</th>\n",
       "      <th>age</th>\n",
       "      <th>state</th>\n",
       "    </tr>\n",
       "  </thead>\n",
       "  <tbody>\n",
       "    <tr>\n",
       "      <th>0</th>\n",
       "      <td>Chuck</td>\n",
       "      <td>fp-111</td>\n",
       "      <td>38</td>\n",
       "      <td>NY</td>\n",
       "    </tr>\n",
       "    <tr>\n",
       "      <th>1</th>\n",
       "      <td>Mercedes</td>\n",
       "      <td>fp-222</td>\n",
       "      <td>76</td>\n",
       "      <td>FL</td>\n",
       "    </tr>\n",
       "    <tr>\n",
       "      <th>2</th>\n",
       "      <td>Barney</td>\n",
       "      <td>fp-333</td>\n",
       "      <td>58</td>\n",
       "      <td>CT</td>\n",
       "    </tr>\n",
       "    <tr>\n",
       "      <th>3</th>\n",
       "      <td>Opal</td>\n",
       "      <td>fp-444</td>\n",
       "      <td>43</td>\n",
       "      <td>FL</td>\n",
       "    </tr>\n",
       "    <tr>\n",
       "      <th>4</th>\n",
       "      <td>Hendrix</td>\n",
       "      <td>fp-555</td>\n",
       "      <td>77</td>\n",
       "      <td>UT</td>\n",
       "    </tr>\n",
       "    <tr>\n",
       "      <th>5</th>\n",
       "      <td>Banksy</td>\n",
       "      <td>fp-666</td>\n",
       "      <td>65</td>\n",
       "      <td>FL</td>\n",
       "    </tr>\n",
       "    <tr>\n",
       "      <th>6</th>\n",
       "      <td>Cashew</td>\n",
       "      <td>fp-777</td>\n",
       "      <td>42</td>\n",
       "      <td>NY</td>\n",
       "    </tr>\n",
       "    <tr>\n",
       "      <th>7</th>\n",
       "      <td>Raisin</td>\n",
       "      <td>fp-888</td>\n",
       "      <td>83</td>\n",
       "      <td>CA</td>\n",
       "    </tr>\n",
       "    <tr>\n",
       "      <th>8</th>\n",
       "      <td>Fluffball</td>\n",
       "      <td>fp-999</td>\n",
       "      <td>53</td>\n",
       "      <td>CA</td>\n",
       "    </tr>\n",
       "  </tbody>\n",
       "</table>\n",
       "</div>"
      ],
      "text/plain": [
       "        name    fpid  age state\n",
       "0      Chuck  fp-111   38    NY\n",
       "1   Mercedes  fp-222   76    FL\n",
       "2     Barney  fp-333   58    CT\n",
       "3       Opal  fp-444   43    FL\n",
       "4    Hendrix  fp-555   77    UT\n",
       "5     Banksy  fp-666   65    FL\n",
       "6     Cashew  fp-777   42    NY\n",
       "7     Raisin  fp-888   83    CA\n",
       "8  Fluffball  fp-999   53    CA"
      ]
     },
     "execution_count": 3,
     "metadata": {},
     "output_type": "execute_result"
    }
   ],
   "source": [
    "data_frame"
   ]
  },
  {
   "cell_type": "code",
   "execution_count": 12,
   "metadata": {},
   "outputs": [
    {
     "name": "stdout",
     "output_type": "stream",
     "text": [
      "Patients per state: state\n",
      "CA    2\n",
      "CT    1\n",
      "FL    3\n",
      "NY    2\n",
      "UT    1\n",
      "Name: fpid, dtype: int64\n",
      "Average age per state: state\n",
      "CA    68.000000\n",
      "CT    58.000000\n",
      "FL    61.333333\n",
      "NY    40.000000\n",
      "UT    77.000000\n",
      "Name: age, dtype: float64\n"
     ]
    }
   ],
   "source": [
    "print('Patients per state:', data_frame.groupby('state').fpid.count())\n",
    "print('Average age per state:', data_frame.groupby('state').age.mean())"
   ]
  },
  {
   "cell_type": "markdown",
   "metadata": {},
   "source": [
    "Or, use numpy to do some crazy stuff"
   ]
  },
  {
   "cell_type": "code",
   "execution_count": 36,
   "metadata": {},
   "outputs": [
    {
     "name": "stdout",
     "output_type": "stream",
     "text": [
      "Eigenvectors: [[-0.26679533  0.15059373  0.9519148 ]\n",
      " [-0.50832716  0.81716434 -0.27174611]\n",
      " [-0.81879409 -0.55638473 -0.14146474]]\n",
      "Eigenvalues: [2.73216655 1.02576419 0.37476551]\n"
     ]
    }
   ],
   "source": [
    "points = numpy.random.rand(3, 10)\n",
    "u, s, vh = numpy.linalg.svd(points)\n",
    "print(\"Eigenvectors:\", u)\n",
    "print(\"Eigenvalues:\", s)"
   ]
  }
 ],
 "metadata": {
  "kernelspec": {
   "display_name": "[sys] py36-scientific",
   "language": "python",
   "name": "py36-sci"
  },
  "language_info": {
   "codemirror_mode": {
    "name": "ipython",
    "version": 3
   },
   "file_extension": ".py",
   "mimetype": "text/x-python",
   "name": "python",
   "nbconvert_exporter": "python",
   "pygments_lexer": "ipython3",
   "version": "3.6.5"
  }
 },
 "nbformat": 4,
 "nbformat_minor": 2
}

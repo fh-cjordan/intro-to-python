{
 "cells": [
  {
   "cell_type": "markdown",
   "metadata": {},
   "source": [
    "<h1>Welcome to your first IPython notebook!</h1>\n",
    "In this notebook, we will play with the basic Python data types, strings, numbers, and lists and other containers. To get started..."
   ]
  },
  {
   "cell_type": "markdown",
   "metadata": {},
   "source": [
    "<h2>Basic Types</h2>\n",
    "<b>Strings:</b>\n",
    "You have already seen strings in use... run the following cell, but try editing the message. When you print a message in a cell, it will be displayed below when you execute the cell."
   ]
  },
  {
   "cell_type": "code",
   "execution_count": null,
   "metadata": {},
   "outputs": [],
   "source": [
    "print(\"Welcome to Python!\")"
   ]
  },
  {
   "cell_type": "markdown",
   "metadata": {},
   "source": [
    "You can also assign a string to a variable for later use:"
   ]
  },
  {
   "cell_type": "code",
   "execution_count": null,
   "metadata": {},
   "outputs": [],
   "source": [
    "name = \"Insert your name here\"\n",
    "print(\"Hello\", name, \"!\")"
   ]
  },
  {
   "cell_type": "markdown",
   "metadata": {},
   "source": [
    "And strings can do all sorts of fun things."
   ]
  },
  {
   "cell_type": "code",
   "execution_count": null,
   "metadata": {},
   "outputs": [],
   "source": [
    "print(name.upper())\n",
    "print(name.lower())\n",
    "print(name[:5])\n",
    "print(name * 3)\n",
    "print(name.startswith(\"C\"))"
   ]
  },
  {
   "cell_type": "markdown",
   "metadata": {},
   "source": [
    "<b>Numbers:</b>\n",
    "Python can do a lot of common arithmetic right out-of-the-box."
   ]
  },
  {
   "cell_type": "code",
   "execution_count": null,
   "metadata": {},
   "outputs": [],
   "source": [
    "# feel free to type your age here (or not!)\n",
    "age = 43\n",
    "\n",
    "# now, let's do some arithmetic\n",
    "print(\"Five years ago I was...\", age - 5)\n",
    "print(\"When I was half my age, I was...\", age / 2)\n",
    "print(\"I'll have my next huge birthday party when I am...\", age + 10 - age % 10)"
   ]
  },
  {
   "cell_type": "markdown",
   "metadata": {},
   "source": [
    "<b>Types</b>\n",
    "When you assign variables or print things, you are using <i>objects</i>, encapsulated bits of data. Objects behave in different ways, and in most languages, we define the behavior of an object by its <i>type</i>. We say, \"An object x is an <i>instance</i> of type X.\""
   ]
  },
  {
   "cell_type": "code",
   "execution_count": null,
   "metadata": {},
   "outputs": [],
   "source": [
    "# see the type of an object using the `type` function\n",
    "print(type(\"hello\"))\n",
    "print(type(5))\n",
    "print(type(5.5))"
   ]
  },
  {
   "cell_type": "markdown",
   "metadata": {},
   "source": [
    "You can reference types directly with the names printed out above, and you can do some fun things with them."
   ]
  },
  {
   "cell_type": "code",
   "execution_count": null,
   "metadata": {},
   "outputs": [],
   "source": [
    "print(\"Forcing an int to be a str:\", str(5) + str(7))\n",
    "print(\"Forcing a float to be an int:\", int(5.5))\n",
    "print(\"Parse a string into a float and add:\", float(\"5.5\") + 1)\n",
    "# try removing the casts above and see what happens, like this: str(5) -> 5"
   ]
  },
  {
   "cell_type": "markdown",
   "metadata": {},
   "source": [
    "<h2>Container Types</h2>\n",
    "<h3>Lists</h3>\n",
    "You'll encounter lists all the time. Lists hold an ordered collection of objects, just like in the real world."
   ]
  },
  {
   "cell_type": "code",
   "execution_count": null,
   "metadata": {},
   "outputs": [],
   "source": [
    "patient_names = [\"Peter\", \"Paul\", \"Mary\"]\n",
    "print(type(patient_names))\n",
    "print(patient_names)"
   ]
  },
  {
   "cell_type": "markdown",
   "metadata": {},
   "source": [
    "And lists do all sorts of fun things too..."
   ]
  },
  {
   "cell_type": "code",
   "execution_count": null,
   "metadata": {},
   "outputs": [],
   "source": [
    "print(len(patient_names))\n",
    "print(\"The first patient is...\", patient_names[0])\n",
    "print(patient_names * 2)\n",
    "print(\"Mary\" in patient_names)\n",
    "# a more advanced computation...\n",
    "print(\"A sum...\", sum([1, 2, 3, 4]))\n",
    "# and an especially useful trick...\n",
    "print(\", \".join(patient_names))\n",
    "\n",
    "print(patient_names[:1])\n",
    "print(names[:5])  # remember this?\n",
    "\n",
    "# Now add a patient to the list...\n",
    "patient_names.append(\"Jerry\")\n",
    "print(patient_names)\n",
    "# What happened? What happens if you re-run this cell again (and again...) (ctrl+enter)"
   ]
  },
  {
   "cell_type": "markdown",
   "metadata": {},
   "source": [
    "Lists also let us <i>iterate</i> over their items, letting us automate tasks:"
   ]
  },
  {
   "cell_type": "code",
   "execution_count": null,
   "metadata": {},
   "outputs": [],
   "source": [
    "for name in patient_names:\n",
    "    print(\"Patient:\", name)"
   ]
  },
  {
   "cell_type": "markdown",
   "metadata": {},
   "source": [
    "<b>TODO</b>"
   ]
  },
  {
   "cell_type": "code",
   "execution_count": null,
   "metadata": {},
   "outputs": [],
   "source": [
    "# 1.a. try to print the name of the 57th item in the list. What happens?\n",
    "# 1.b. okay, just kidding, after you've tried 57th, print the name of the last item (use the index -1)"
   ]
  },
  {
   "cell_type": "code",
   "execution_count": null,
   "metadata": {},
   "outputs": [],
   "source": [
    "# 2. try to create a list from a string (like we created a string from an int with \"str(5)\"). What happens?"
   ]
  },
  {
   "cell_type": "code",
   "execution_count": null,
   "metadata": {},
   "outputs": [],
   "source": [
    "# 3. try to print out all of the patient_names as one string, separated by only spaces.\n",
    "# Hint: there's a string function a few cells above that does this for you."
   ]
  },
  {
   "cell_type": "code",
   "execution_count": null,
   "metadata": {},
   "outputs": [],
   "source": [
    "# 4. for each patient in the list, print out the upper case version of that patient's name"
   ]
  },
  {
   "cell_type": "markdown",
   "metadata": {},
   "source": [
    "<h3>Dictionaries</h3> Dictionaries are containers that map an unordered set of unique <i>keys</i> to <i>values</i>."
   ]
  },
  {
   "cell_type": "code",
   "execution_count": null,
   "metadata": {},
   "outputs": [],
   "source": [
    "patient_to_age = {\n",
    "    \"Peter\": 57,\n",
    "    \"Paul\": 35,\n",
    "    \"Mary\": 44,\n",
    "}\n",
    "print(type(patient_to_age))\n",
    "print(patient_to_age)"
   ]
  },
  {
   "cell_type": "markdown",
   "metadata": {},
   "source": [
    "And just a few of the many tricks a dict can perform..."
   ]
  },
  {
   "cell_type": "code",
   "execution_count": null,
   "metadata": {},
   "outputs": [],
   "source": [
    "print(\"Peter's age:\", patient_to_age[\"Peter\"])\n",
    "print(\"Number of patients:\", len(patient_to_age))\n",
    "print(\"All keys:\", list(patient_to_age))\n",
    "print(\"All values:\", patient_to_age.values())\n",
    "print(\"Do we know Mary's age?\", \"Mary\" in patient_to_age)\n",
    "\n",
    "# add a new patient, and then see what happened...\n",
    "patient_to_age[\"Peaches\"] = 61\n",
    "print(\"Now all patients:\", list(patient_to_age))\n",
    "# and what happens if you run this cell twice? (ctrl+enter)"
   ]
  },
  {
   "cell_type": "markdown",
   "metadata": {},
   "source": [
    "<b>TODO<b/>"
   ]
  },
  {
   "cell_type": "code",
   "execution_count": null,
   "metadata": {},
   "outputs": [],
   "source": [
    "# 1. What happens if you try to get the age of a patient that doesn't exist (e.g. patient_to_age[\"bad_patient\"])?\n",
    "# 2. Hm. Okay, try the same but using `get` instead of `[]`, e.g. replace \"[X]\" -> \".get(X)\"\n",
    "# 3. Trick question, sort of: can you print the age of the _last_ patient in the dictionary"
   ]
  },
  {
   "cell_type": "markdown",
   "metadata": {},
   "source": [
    "<h3>Sets</h3>Sets are \"unique lists\" that use the keys from a <i>dict</i>. Sets are unordered collections!"
   ]
  },
  {
   "cell_type": "code",
   "execution_count": null,
   "metadata": {},
   "outputs": [],
   "source": [
    "patient_sites = set([\"site1\", \"site2\", \"site3\"])\n",
    "patient_sites = {\"site1\", \"site2\", \"site3\"}  # for a condensed \"pythonic\" initialization\n",
    "print(patient_sites)  # pay attention to the ordering!\n",
    "\n",
    "patient_sites.add(\"site4\")\n",
    "print(patient_sites)\n",
    "patient_sites.add(\"site2\")\n",
    "print(patient_sites)\n",
    "patient_sites.remove(\"site3\")\n",
    "\n",
    "other_sites = {\"site1\", \"site3\", \"site5\"}\n",
    "patient_sites.update(other_sites)\n",
    "\n",
    "print(patient_sites.union(other_sites))\n",
    "print(patient_sites.difference(other_sites))\n"
   ]
  },
  {
   "cell_type": "markdown",
   "metadata": {},
   "source": [
    "<h3>Functions</h3>\n",
    "<p>Functions are objects that can perform actions or transform input (think \"function\" in math, or also the \"function\" of a robot).</p>\n",
    "<p>To run a function, you <i>call</i> it with specific <i>arguments</i>: <b>return_value = function(arg1, arg2, arg3, ...)</b></p>\n",
    "<p>You've already seen several before:</p>"
   ]
  },
  {
   "cell_type": "code",
   "execution_count": null,
   "metadata": {},
   "outputs": [],
   "source": [
    "# `len` is a built-in function that takes a collection as argument and returns its length\n",
    "print(len([patient_names]))\n",
    "# `type` is too; it takes an object as argument and returns its type\n",
    "print(type(patient_names))\n",
    "# Even `print` is a function: it takes as many arguments as you pass in, returns NOTHING, but logs your input to the console\n",
    "print(\"All\", \"the\", \"arguments\")\n",
    "print(print(\"One more time\"))"
   ]
  },
  {
   "cell_type": "markdown",
   "metadata": {},
   "source": [
    "Type names are functions as well, and when we <i>call</i> them, they are called <i>constructors</i>. You've seen some of these before:"
   ]
  },
  {
   "cell_type": "code",
   "execution_count": null,
   "metadata": {},
   "outputs": [],
   "source": [
    "# construct an integer from a float; e.g. `int` takes an argument and returns an instance of int\n",
    "print(int(6.5))\n",
    "# construct a string from an integer; e.g. `str` takes an argument and returns an instance of str\n",
    "print(str(5))\n",
    "# construct a list directly from a string\n",
    "print(list(\"hello\"))"
   ]
  },
  {
   "cell_type": "markdown",
   "metadata": {},
   "source": [
    "You can make an object do stuff too, by calling a function bound to that object. Technically, these functions are called <i>instance methods</i>. You've already used a couple of these too."
   ]
  },
  {
   "cell_type": "code",
   "execution_count": null,
   "metadata": {},
   "outputs": [],
   "source": [
    "# `str.lower`, when called on a string, will return the same string lowercase. \n",
    "# Think of this as, \"I've called this particular string's `lower` method.\n",
    "# The method implicitly takes the string itself as argument and returns a transformation of that string.\"\n",
    "print(name.lower())\n",
    "# `dict.get` takes the dict itself, a key, and a default as arguments, and it returns None if the key is not in the dict\n",
    "print(patient_to_age.get(\"Sandy Claws\", 999))\n",
    "# `list.append` takes the list itself and a new item as arguments, modifies the list, and returns NOTHING\n",
    "print(patient_names.append(\"Somebody new\"))"
   ]
  },
  {
   "cell_type": "markdown",
   "metadata": {},
   "source": [
    "<h4>Defining functions</h4>\n",
    "Python is great because it has TONS of defined functions. However, we can write our own, too! A function <i>declaration</i> defines a new function you can use, and it looks like this:"
   ]
  },
  {
   "cell_type": "code",
   "execution_count": null,
   "metadata": {},
   "outputs": [],
   "source": [
    "def add_exclamation_mark(string):\n",
    "    \"\"\"This is a special comment called a \"docstring\" that documents my function.\n",
    "    \n",
    "    This syntax helps third-party tools automate document creation...\n",
    "    it's optional and will change depending on which library you look at, but generally looks something like this.\n",
    "    @param str string: the input string we wish to transform\n",
    "    @return: the input string with \"!\" appended\n",
    "    \"\"\"\n",
    "    return string + \"!\"\n",
    "\n",
    "# now, let's use it!\n",
    "print(add_exclamation_mark(\"Hello\"))"
   ]
  },
  {
   "cell_type": "code",
   "execution_count": null,
   "metadata": {},
   "outputs": [],
   "source": [
    "# and now, for the fancy fancy\n",
    "help(add_exclamation_mark)"
   ]
  },
  {
   "cell_type": "markdown",
   "metadata": {},
   "source": [
    "<b>TODO</b>"
   ]
  },
  {
   "cell_type": "code",
   "execution_count": null,
   "metadata": {},
   "outputs": [],
   "source": [
    "# fill out this function\n",
    "def get_cumulative_age_of_patients(patient_to_age):\n",
    "    \"\"\"Return the sum of ages of patients in a dictionary, or 0 if the dictionary is empty.\n",
    "    \n",
    "    @param dict(str -> int): a dictionary mapping patient names to ages\n",
    "    @return: the sum of ages of patients in the dictionary\n",
    "    \"\"\"\n",
    "    # Hint 1: get a list of all patient ages\n",
    "    # Hint 2: add that list together\n",
    "    # Hint 3: return that result!\n",
    "\n",
    "test_patient_to_age = {\"Bob\": 33, \"Jenny\": 44}\n",
    "print(\"Should be 77:\", get_cumulative_age_of_patients(test_patient_to_age))\n",
    "print(\"Should be 0:\", get_cumulative_age_of_patients({}))"
   ]
  },
  {
   "cell_type": "markdown",
   "metadata": {},
   "source": [
    "<h3>List and dict comprehensions</h3>\n",
    "There are many ways to construct lists and dictionaries, involving the [] and {} syntax you've already seen as well as their class names."
   ]
  },
  {
   "cell_type": "code",
   "execution_count": null,
   "metadata": {},
   "outputs": [],
   "source": [
    "# Use the `list` constructor\n",
    "print(\"Empty lists\", [], list())\n",
    "print(\"List 1\", [1, 2, 3])\n",
    "print(\"List 2\", list(\"Some words\"))\n",
    "print(\"List 3\", list(patient_to_age))\n",
    "\n",
    "# Use the `dict` constructor\n",
    "print(\"Empty dicts\", {}, dict())\n",
    "# with a list of key-value pairs\n",
    "print(dict([('a', 1), ('b', 2)]))\n",
    "# specify arguments in a whole-new way!\n",
    "print(dict(a=1, b=2))"
   ]
  },
  {
   "cell_type": "markdown",
   "metadata": {},
   "source": [
    "However, there's a shortcut to iterate through a list, perform a transformation, and return a new list: a <i>list comprehension</i>"
   ]
  },
  {
   "cell_type": "code",
   "execution_count": null,
   "metadata": {},
   "outputs": [],
   "source": [
    "# iteratively build a list of lowercase patient names\n",
    "lowercase_patient_names = []\n",
    "for patient in patient_names:\n",
    "    lowercase_patient_names.append(patient.lower())\n",
    "print(\"Lowercased with a for-loop:\", lowercase_patient_names)\n",
    "\n",
    "# build a list of lowercase patient names with a list comprehension\n",
    "lowercase_patient_names_2 = [patient.lower() for patient in patient_names]\n",
    "print(\"Lowercased with a comprehension:\", lowercase_patient_names_2)\n",
    "\n",
    "# and, just for kicks, you can even `filter` the new list\n",
    "lowercase_patient_names_filtered = [patient.lower() for patient in patient_names if patient.startswith(\"P\")]\n",
    "print(\"Lowercased patients starting with P\", lowercase_patient_names_filtered)"
   ]
  },
  {
   "cell_type": "code",
   "execution_count": null,
   "metadata": {},
   "outputs": [],
   "source": [
    "# You can do a similar thing with a dict\n",
    "zeroed_patient_ages = {patient: 0 for patient in patient_names}\n",
    "lowercased_patient_ages = {patient.lower(): age for patient, age in patient_to_age.items()}\n",
    "\n",
    "print(\"Zeroed ages from patient_names:\", zeroed_patient_ages)\n",
    "print(\"Lowercased patient_to_ages:\", lowercased_patient_ages)"
   ]
  },
  {
   "cell_type": "markdown",
   "metadata": {},
   "source": [
    "<b>TODO</b>"
   ]
  },
  {
   "cell_type": "code",
   "execution_count": null,
   "metadata": {},
   "outputs": [],
   "source": [
    "# 1. Build a list that contains only patients also in `patient_to_age` using a list comprehension. Hint: use \"in\""
   ]
  },
  {
   "cell_type": "markdown",
   "metadata": {},
   "source": [
    "<h2>Lambdas</h2>\n",
    "<b>Lambdas</b> are a concise syntax to write inline functions. They can take arguments like normal functions, and they automatically return the value of their expression. Let's look at some examples:"
   ]
  },
  {
   "cell_type": "code",
   "execution_count": null,
   "metadata": {},
   "outputs": [],
   "source": [
    "# a regular function...\n",
    "def add_one(x):\n",
    "    return x + 1\n",
    "\n",
    "# a lambda function...\n",
    "add_two = lambda x: x + 2\n",
    "\n",
    "# now let's see if they work differently\n",
    "print(add_one(3))\n",
    "print(add_two(3))\n",
    "print(add_one)\n",
    "print(add_two)"
   ]
  },
  {
   "cell_type": "markdown",
   "metadata": {},
   "source": [
    "Lambdas are often most useful when you just need to pass a minor function to another routine."
   ]
  },
  {
   "cell_type": "code",
   "execution_count": null,
   "metadata": {},
   "outputs": [],
   "source": [
    "from functools import reduce\n",
    "numbers = [1, 2, 3, 4]\n",
    "total = reduce(lambda x, y: x + y, numbers)\n",
    "print(total)"
   ]
  },
  {
   "cell_type": "markdown",
   "metadata": {},
   "source": [
    "<b>TODO</b>: Modify the cell above to print the cumulative <i>product</i> rather than <i>sum</i>."
   ]
  }
 ],
 "metadata": {
  "kernelspec": {
   "display_name": "Python 3",
   "language": "python",
   "name": "python3"
  },
  "language_info": {
   "codemirror_mode": {
    "name": "ipython",
    "version": 3
   },
   "file_extension": ".py",
   "mimetype": "text/x-python",
   "name": "python",
   "nbconvert_exporter": "python",
   "pygments_lexer": "ipython3",
   "version": "3.6.5"
  }
 },
 "nbformat": 4,
 "nbformat_minor": 2
}

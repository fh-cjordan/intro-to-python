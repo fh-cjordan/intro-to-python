{
 "cells": [
  {
   "cell_type": "markdown",
   "metadata": {},
   "source": [
    "Suppose we read in a text file as a series of lines:"
   ]
  },
  {
   "cell_type": "code",
   "execution_count": 3,
   "metadata": {},
   "outputs": [],
   "source": [
    "lines = [\n",
    "    'fpid-123|23',\n",
    "    'fpid-124|30',\n",
    "    'fpid-125|37',\n",
    "    'fpid-126|55',\n",
    "    'fpid-127|64',\n",
    "]"
   ]
  },
  {
   "cell_type": "markdown",
   "metadata": {},
   "source": [
    "How can we turn this into a list of string and number pairs?"
   ]
  },
  {
   "cell_type": "code",
   "execution_count": 22,
   "metadata": {},
   "outputs": [
    {
     "data": {
      "text/plain": [
       "[['fpid-123', '23'],\n",
       " ['fpid-124', '30'],\n",
       " ['fpid-125', '37'],\n",
       " ['fpid-126', '55'],\n",
       " ['fpid-127', '64']]"
      ]
     },
     "execution_count": 22,
     "metadata": {},
     "output_type": "execute_result"
    }
   ],
   "source": [
    "patient_pairs = [line.split('|') for line in lines]\n",
    "patient_pairs"
   ]
  },
  {
   "cell_type": "markdown",
   "metadata": {},
   "source": [
    "This is close! But we don't have numbers yet."
   ]
  },
  {
   "cell_type": "code",
   "execution_count": null,
   "metadata": {},
   "outputs": [],
   "source": [
    "attempt_two = ...?"
   ]
  },
  {
   "cell_type": "markdown",
   "metadata": {},
   "source": [
    "Now, let's say we get the input below. Does it still work?"
   ]
  },
  {
   "cell_type": "code",
   "execution_count": 24,
   "metadata": {},
   "outputs": [],
   "source": [
    "more_lines = [\n",
    "    'fpid-123|23',\n",
    "    'fpid-124|3o',\n",
    "    'fpid-125|37',\n",
    "    'fpid-126|S5',\n",
    "    'fpid-127|64',\n",
    "]"
   ]
  },
  {
   "cell_type": "markdown",
   "metadata": {},
   "source": [
    "I imagine it might not!\n",
    "How can we exclude all of the lines with invalid numbers?"
   ]
  },
  {
   "cell_type": "markdown",
   "metadata": {},
   "source": [
    "Now we want to turn this into a list of objects."
   ]
  },
  {
   "cell_type": "code",
   "execution_count": 26,
   "metadata": {},
   "outputs": [],
   "source": [
    "class Patient:\n",
    "    def __init__(self, fpid, mrn):\n",
    "        self.fpid = fpid\n",
    "        self.mrn = mrn"
   ]
  },
  {
   "cell_type": "code",
   "execution_count": 33,
   "metadata": {},
   "outputs": [
    {
     "ename": "SyntaxError",
     "evalue": "invalid syntax (<ipython-input-33-16cf02236735>, line 1)",
     "output_type": "error",
     "traceback": [
      "\u001b[0;36m  File \u001b[0;32m\"<ipython-input-33-16cf02236735>\"\u001b[0;36m, line \u001b[0;32m1\u001b[0m\n\u001b[0;31m    patient_object_list = ...?\u001b[0m\n\u001b[0m                             ^\u001b[0m\n\u001b[0;31mSyntaxError\u001b[0m\u001b[0;31m:\u001b[0m invalid syntax\n"
     ]
    }
   ],
   "source": [
    "patient_object_list = ...?"
   ]
  },
  {
   "cell_type": "markdown",
   "metadata": {},
   "source": [
    "This isn't very helpful, and we might accidentally create these `Patient` objects with a string MRN. How can we verify the MRN is an `int` type?"
   ]
  },
  {
   "cell_type": "code",
   "execution_count": null,
   "metadata": {},
   "outputs": [],
   "source": []
  },
  {
   "cell_type": "markdown",
   "metadata": {},
   "source": [
    "You may also notice that these `Patient` objects don't have a very human-readable representation when they're printed in a list.\n",
    "\n",
    "Add the special method so these are printed as `Patient(fpid = fpid-123, mrn = 23)` instead."
   ]
  }
 ],
 "metadata": {
  "kernelspec": {
   "display_name": "[sys] py36-scientific",
   "language": "python",
   "name": "py36-sci"
  },
  "language_info": {
   "codemirror_mode": {
    "name": "ipython",
    "version": 3
   },
   "file_extension": ".py",
   "mimetype": "text/x-python",
   "name": "python",
   "nbconvert_exporter": "python",
   "pygments_lexer": "ipython3",
   "version": "3.6.5"
  }
 },
 "nbformat": 4,
 "nbformat_minor": 2
}

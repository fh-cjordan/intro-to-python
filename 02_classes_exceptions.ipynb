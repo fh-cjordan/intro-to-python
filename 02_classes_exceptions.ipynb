{
 "cells": [
  {
   "cell_type": "markdown",
   "metadata": {},
   "source": [
    "<h1>Exceptions and Classes</h1>\n",
    "<h2>Exceptions</h2>\n",
    "<b>Exceptions</b> are Python's way of telling us when we've made a mistake. Let's see what one looks like..."
   ]
  },
  {
   "cell_type": "code",
   "execution_count": null,
   "metadata": {},
   "outputs": [],
   "source": [
    "my_dict = {'a': 5}\n",
    "my_dict['b']"
   ]
  },
  {
   "cell_type": "markdown",
   "metadata": {},
   "source": [
    "Sometimes we want to <i>raise</i> them in our own functions, perhaps to tell our users that they've done something wrong:"
   ]
  },
  {
   "cell_type": "code",
   "execution_count": null,
   "metadata": {},
   "outputs": [],
   "source": [
    "def validate_secret(word):\n",
    "    if word == 'secret':\n",
    "        return True\n",
    "    raise ValueError('secret is wrong!')\n",
    "\n",
    "print('Trying the word \"secret\"')\n",
    "validate_secret('secret')\n",
    "print('Trying the word \"banana\"')\n",
    "validate_secret('banana')"
   ]
  },
  {
   "cell_type": "markdown",
   "metadata": {},
   "source": [
    "<h2>Handling exceptions</h2>\n",
    "In general, we want our code to respond in a clever way (not to crash) when it encounters an exception that it may expect. To do this, we <i>catch</i> the exception."
   ]
  },
  {
   "cell_type": "code",
   "execution_count": null,
   "metadata": {},
   "outputs": [],
   "source": [
    "def get_value_or_none(a_dict, key):\n",
    "    try:\n",
    "        return a_dict[key]\n",
    "    except KeyError as e:\n",
    "        print('(Key does not exist; returning None)')\n",
    "        return None\n",
    "\n",
    "my_dict = {'a': 5}\n",
    "print('Value:', get_value_or_none(my_dict, 'a'))\n",
    "print('Value:', get_value_or_none(my_dict, 'b'))"
   ]
  },
  {
   "cell_type": "markdown",
   "metadata": {},
   "source": [
    "<b>TODO</b>: The following cell throws an error. Catch the error and print a helpful message instead! Hint: run it first to see what <i>type</i> the error has. It is also useful to catch an error and rethrow a different error."
   ]
  },
  {
   "cell_type": "code",
   "execution_count": null,
   "metadata": {},
   "outputs": [],
   "source": [
    "# Let's convert a string to a number\n",
    "x = int('5432')\n",
    "print('x', x)\n",
    "\n",
    "y = int('asdf')\n",
    "print('y', y)"
   ]
  },
  {
   "cell_type": "code",
   "execution_count": null,
   "metadata": {},
   "outputs": [],
   "source": [
    "class CustomError(Exception):\n",
    "    pass\n",
    "\n",
    "my_dict = {'a': 5}\n",
    "try:\n",
    "    print('Value:', my_dict['b'])\n",
    "except KeyError:\n",
    "    raise CustomError('Raising a custom error')"
   ]
  },
  {
   "cell_type": "markdown",
   "metadata": {},
   "source": [
    "<h2>Classes</h2>\n",
    "A <b>class</b> (generally synonymous with <b>type</b>) is a recipe for creating <i>objects</i> that defines shared aspects of their behavior. We often define our own classes as a useful way to encapsulate reusable data and routines related to it. To see a fairly thorough example, let's reimplement a favorite Python data structure: the defaultdict. The default dict is like a dictionary, but when a key that does not yet exist is requested, it automatically inserts that key and constructs a new value."
   ]
  },
  {
   "cell_type": "code",
   "execution_count": null,
   "metadata": {},
   "outputs": [],
   "source": [
    "class PatientRecord:\n",
    "    \n",
    "    def __init__(self, patient_id, num_visits=0):\n",
    "        self.patient_id = patient_id\n",
    "        self.num_visits = num_visits\n",
    "    \n",
    "    def add_visit(self):\n",
    "        self.num_visits += 1\n",
    "\n",
    "# Hint: if you make changes to this class, re-run this cell and those below to update other instances."
   ]
  },
  {
   "cell_type": "code",
   "execution_count": null,
   "metadata": {},
   "outputs": [],
   "source": [
    "record = PatientRecord(\"f1234\")\n",
    "\n",
    "print(\"Patient\", record.patient_id, \"num visits\", record.num_visits)\n",
    "record.add_visit()\n",
    "print(\"Patient\", record.patient_id, \"num visits\", record.num_visits)"
   ]
  },
  {
   "cell_type": "markdown",
   "metadata": {},
   "source": [
    "<h3>Special Methods</h3>\n",
    "Some methods are automatically called or implement special operators<br/>\n",
    "<ul>\n",
    "    <li>__init__: called to initialize any new object</li>\n",
    "    <li>__getitem__, __setitem__: the [] operators</li>\n",
    "    <li>__lt__, __gt__, __eq__, …: binary comparators</li>\n",
    "    <li>__str__, __repr__: automatically converts object to a string</li>\n",
    "    <li>__hash__: override the default hashing function (can you hash an object?)</li>\n",
    "</ul>\n",
    "And many others… always google ‘em if you see ‘em!"
   ]
  },
  {
   "cell_type": "markdown",
   "metadata": {},
   "source": [
    "<b>TODO</b>: Use the <b>\\_\\_str__</b> method so that when you just print out a PatientRecord, you automatically get a string that lists the patient id and number of visits."
   ]
  },
  {
   "cell_type": "code",
   "execution_count": null,
   "metadata": {},
   "outputs": [],
   "source": [
    "record = PatientRecord(\"f4567\", 5)\n",
    "print(record)"
   ]
  },
  {
   "cell_type": "markdown",
   "metadata": {},
   "source": [
    "<h1>Special function parameters</h1>\n",
    "<h2>*args</h2>\n",
    "We have a simple function to add two numbers.\n",
    "But it's difficult to read when we repeat this several times!"
   ]
  },
  {
   "cell_type": "code",
   "execution_count": null,
   "metadata": {},
   "outputs": [],
   "source": [
    "def add(x, y):\n",
    "    return x + y\n",
    "\n",
    "print(add(1, 2))\n",
    "print(add(add(add(1, 2), 4), 5))"
   ]
  },
  {
   "cell_type": "markdown",
   "metadata": {},
   "source": [
    "It'd be much nicer if this function took as many arguments as we pass, and add them all together.\n",
    "We can do this with `*args`!"
   ]
  },
  {
   "cell_type": "code",
   "execution_count": null,
   "metadata": {},
   "outputs": [],
   "source": [
    "add(1, 2, 3)"
   ]
  },
  {
   "cell_type": "code",
   "execution_count": null,
   "metadata": {},
   "outputs": [],
   "source": [
    "def add_all(*args):\n",
    "    sum_ = 0\n",
    "    for arg in args:\n",
    "        sum_ += arg\n",
    "    return sum_\n",
    "add_all(1, 2, 3, 4, 5)"
   ]
  },
  {
   "cell_type": "markdown",
   "metadata": {},
   "source": [
    "<b>TODO</b>: Can you implement the `add_all` function in one-line, without using a for-loop?"
   ]
  },
  {
   "cell_type": "markdown",
   "metadata": {},
   "source": [
    "<h2>**kwargs</h2>\n",
    "Other times, a function might want to take a variable number of named key-value arguments, perhaps to pass them to another function or simply for convenience. It looks like this:"
   ]
  },
  {
   "cell_type": "code",
   "execution_count": null,
   "metadata": {},
   "outputs": [],
   "source": [
    "def print_key_value_pairs(**kwargs):\n",
    "    # kwargs is a dictionary\n",
    "    for key in kwargs:\n",
    "        print(key, kwargs[key])"
   ]
  },
  {
   "cell_type": "code",
   "execution_count": null,
   "metadata": {},
   "outputs": [],
   "source": [
    "# and we use it like this\n",
    "print_key_value_pairs(a=5, b=3)"
   ]
  },
  {
   "cell_type": "code",
   "execution_count": null,
   "metadata": {},
   "outputs": [],
   "source": [
    "# A more practical example involves wrapping another function\n",
    "def print_key_value_wrapper(verbose=True, **kwargs):\n",
    "    if verbose:\n",
    "        print_key_value_pairs(**kwargs)\n",
    "\n",
    "# TODO: Try changing the value of verbose...\n",
    "print_key_value_wrapper(True, a=5, b=3)"
   ]
  }
 ],
 "metadata": {
  "kernelspec": {
   "display_name": "Python 3",
   "language": "python",
   "name": "python3"
  },
  "language_info": {
   "codemirror_mode": {
    "name": "ipython",
    "version": 3
   },
   "file_extension": ".py",
   "mimetype": "text/x-python",
   "name": "python",
   "nbconvert_exporter": "python",
   "pygments_lexer": "ipython3",
   "version": "3.6.5"
  }
 },
 "nbformat": 4,
 "nbformat_minor": 2
}

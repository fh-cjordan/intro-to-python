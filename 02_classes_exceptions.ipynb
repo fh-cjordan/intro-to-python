{
 "cells": [
  {
   "cell_type": "markdown",
   "metadata": {},
   "source": [
    "<h1>Exceptions and Classes</h1>\n",
    "<h2>Exceptions</h2>\n",
    "<b>Exceptions</b> are Python's way of telling us when we've made a mistake. Let's see what one looks like..."
   ]
  },
  {
   "cell_type": "code",
   "execution_count": null,
   "metadata": {},
   "outputs": [],
   "source": [
    "my_dict = {'a': 5}\n",
    "my_dict['b']"
   ]
  },
  {
   "cell_type": "markdown",
   "metadata": {},
   "source": [
    "Sometimes we want to <i>raise</i> them in our own functions, perhaps to tell our users that they've done something wrong:"
   ]
  },
  {
   "cell_type": "code",
   "execution_count": null,
   "metadata": {},
   "outputs": [],
   "source": [
    "def validate_secret(word):\n",
    "    if word == 'secret':\n",
    "        return True\n",
    "    raise ValueError('secret is wrong!')\n",
    "\n",
    "print('Trying the word \"secret\"')\n",
    "validate_secret('secret')\n",
    "print('Trying the word \"banana\"')\n",
    "validate_secret('banana')"
   ]
  },
  {
   "cell_type": "markdown",
   "metadata": {},
   "source": [
    "<h2>Handling exceptions</h2>\n",
    "In general, we want our code to respond in a clever way (not to crash) when it encounters an exception that it may expect. To do this, we <i>catch</i> the exception."
   ]
  },
  {
   "cell_type": "code",
   "execution_count": null,
   "metadata": {},
   "outputs": [],
   "source": [
    "def get_value_or_none(a_dict, key):\n",
    "    try:\n",
    "        return a_dict[key]\n",
    "    except KeyError as e:\n",
    "        print('(Key does not exist; returning None)')\n",
    "        return None\n",
    "\n",
    "my_dict = {'a': 5}\n",
    "print('Value:', get_value_or_none(my_dict, 'a'))\n",
    "print('Value:', get_value_or_none(my_dict, 'b'))"
   ]
  },
  {
   "cell_type": "markdown",
   "metadata": {},
   "source": [
    "<b>TODO</b>: The following cell throws an error. Catch the error and print a helpful message instead! Hint: run it first to see what <i>type</i> the error has. It is also useful to catch an error and rethrow a different error."
   ]
  },
  {
   "cell_type": "code",
   "execution_count": null,
   "metadata": {},
   "outputs": [],
   "source": [
    "# Let's convert a string to a number\n",
    "x = int('5432')\n",
    "print('x', x)\n",
    "\n",
    "y = int('asdf')\n",
    "print('y', y)"
   ]
  },
  {
   "cell_type": "code",
   "execution_count": 4,
   "metadata": {},
   "outputs": [],
   "source": [
    "class CustomError(Exception):\n",
    "    pass\n",
    "\n",
    "my_dict = {'a': 5}\n",
    "try:\n",
    "    print('Value:', my_dict['b'])\n",
    "except KeyError:\n",
    "    raise CustomError('Raising a custom error')"
   ]
  },
  {
   "cell_type": "markdown",
   "metadata": {},
   "source": [
    "<h2>Classes</h2>\n",
    "A <b>class</b> (generally synonymous with <b>type</b>) is a recipe for creating <i>objects</i> that defines shared aspects of their behavior. We often define our own classes as a useful way to encapsulate reusable data and routines related to it. To see a fairly thorough example, let's reimplement a favorite Python data structure: the defaultdict. The default dict is like a dictionary, but when a key that does not yet exist is requested, it automatically inserts that key and constructs a new value."
   ]
  },
  {
   "cell_type": "code",
   "execution_count": null,
   "metadata": {},
   "outputs": [],
   "source": [
    "class DefaultDict:\n",
    "  def __init__(self, create_default_value=None):\n",
    "    self._dict = dict()\n",
    "    self._create_default_value = create_default_value\n",
    "\n",
    "  def get(self, key):\n",
    "    \"\"\" Return the value corresponding to the specified key \"\"\"\n",
    "    if not key in self._dict:\n",
    "        self._dict[key] = self._create_default_value()\n",
    "    return self._dict[key]\n",
    "\n",
    "  def set(self, key, value):\n",
    "    \"\"\" Set the value corresponding to the specified key \"\"\"\n",
    "    self._dict[key] = value"
   ]
  },
  {
   "cell_type": "code",
   "execution_count": null,
   "metadata": {},
   "outputs": [],
   "source": [
    "my_dict = DefaultDict(lambda: 'unknown')\n",
    "my_dict.set('xyz', 'Hello')\n",
    "print('xyz', my_dict.get('xyz'))\n",
    "print('abc', my_dict.get('abc'))"
   ]
  },
  {
   "cell_type": "markdown",
   "metadata": {},
   "source": [
    "<h3>Special Methods</h3>\n",
    "Some methods are automatically called or implement special operators<br/>\n",
    "<ul>\n",
    "    <li>__init__: called to initialize any new object</li>\n",
    "    <li>__getitem__, __setitem__: the [] operators</li>\n",
    "    <li>__lt__, __gt__, __eq__, …: binary comparators</li>\n",
    "    <li>__str__, __repr__: automatically converts object to a string</li>\n",
    "    <li>__hash__: override the default hashing function (can you hash an object?)</li>\n",
    "</ul>\n",
    "And many others… always google ‘em if you see ‘em!"
   ]
  },
  {
   "cell_type": "markdown",
   "metadata": {},
   "source": [
    "<b>TODO</b>: Use the <b>\\_\\_getitem__</b> and <b>\\_\\_setitem__</b> method names <i>instead of</i> <b>get</b> and <b>set</b> for DefaultDict such that the following cell works using the [] operators. (Hint: the implementation should be exactly the same.)"
   ]
  },
  {
   "cell_type": "code",
   "execution_count": null,
   "metadata": {},
   "outputs": [],
   "source": [
    "my_dict = DefaultDict(lambda: 'unknown')\n",
    "my_dict['xyz'] = 'Hello'\n",
    "print('xyz', my_dict['xyz'])\n",
    "print('abc', my_dict['abc'])"
   ]
  },
  {
   "cell_type": "markdown",
   "metadata": {},
   "source": [
    "<h2>TODO: A Practical Example</h2>\n",
    "Suppose we read in a text file as a series of lines:"
   ]
  },
  {
   "cell_type": "code",
   "execution_count": null,
   "metadata": {},
   "outputs": [],
   "source": [
    "lines = [\n",
    "    'fpid-123|23',\n",
    "    'fpid-124|30',\n",
    "    'fpid-125|37',\n",
    "    'fpid-126|55',\n",
    "    'fpid-127|64',\n",
    "]"
   ]
  },
  {
   "cell_type": "markdown",
   "metadata": {},
   "source": [
    "How can we turn this into a list of string and number pairs?"
   ]
  },
  {
   "cell_type": "code",
   "execution_count": null,
   "metadata": {},
   "outputs": [],
   "source": [
    "patient_pairs = [line.split('|') for line in lines]\n",
    "patient_pairs"
   ]
  },
  {
   "cell_type": "markdown",
   "metadata": {},
   "source": [
    "This is close! But we don't have numbers yet."
   ]
  },
  {
   "cell_type": "code",
   "execution_count": null,
   "metadata": {},
   "outputs": [],
   "source": [
    "attempt_two = [[line.split('|')[0], int(line.split('|')[1])] for line in lines]\n",
    "attempt_two"
   ]
  },
  {
   "cell_type": "markdown",
   "metadata": {},
   "source": [
    "Now, let's say we get the input below. Does it still work?"
   ]
  },
  {
   "cell_type": "code",
   "execution_count": null,
   "metadata": {},
   "outputs": [],
   "source": [
    "more_lines = [\n",
    "    'fpid-123|23',\n",
    "    'fpid-124|3o',\n",
    "    'fpid-125|37',\n",
    "    'fpid-126|S5',\n",
    "    'fpid-127|64',\n",
    "]"
   ]
  },
  {
   "cell_type": "code",
   "execution_count": null,
   "metadata": {},
   "outputs": [],
   "source": [
    "attempt_two = []\n",
    "for line in more_lines:\n",
    "    try:\n",
    "        x, y = line.split('|')\n",
    "        y = int(y)\n",
    "        attempt_two.append([x, y])\n",
    "    except ValueError:\n",
    "        pass\n",
    "attempt_two"
   ]
  },
  {
   "cell_type": "markdown",
   "metadata": {},
   "source": [
    "I imagine it might not!\n",
    "How can we exclude all of the lines with invalid numbers?"
   ]
  },
  {
   "cell_type": "markdown",
   "metadata": {},
   "source": [
    "Now we want to turn this into a list of objects."
   ]
  },
  {
   "cell_type": "code",
   "execution_count": null,
   "metadata": {},
   "outputs": [],
   "source": [
    "class Patient:\n",
    "    def __init__(self, fpid, mrn):\n",
    "        self.fpid = fpid\n",
    "        self.mrn = mrn"
   ]
  },
  {
   "cell_type": "code",
   "execution_count": null,
   "metadata": {},
   "outputs": [],
   "source": [
    "patient_object_list = ...?"
   ]
  },
  {
   "cell_type": "markdown",
   "metadata": {},
   "source": [
    "This isn't very helpful, and we might accidentally create these `Patient` objects with a string MRN. How can we verify the MRN is an `int` type?"
   ]
  },
  {
   "cell_type": "code",
   "execution_count": null,
   "metadata": {},
   "outputs": [],
   "source": []
  },
  {
   "cell_type": "markdown",
   "metadata": {},
   "source": [
    "You may also notice that these `Patient` objects don't have a very human-readable representation when they're printed in a list.\n",
    "\n",
    "Add the special method so these are printed as `Patient(fpid = fpid-123, mrn = 23)` instead."
   ]
  }
 ],
 "metadata": {
  "kernelspec": {
   "display_name": "[sys] py36-scientific",
   "language": "python",
   "name": "py36-sci"
  },
  "language_info": {
   "codemirror_mode": {
    "name": "ipython",
    "version": 3
   },
   "file_extension": ".py",
   "mimetype": "text/x-python",
   "name": "python",
   "nbconvert_exporter": "python",
   "pygments_lexer": "ipython3",
   "version": "3.6.5"
  }
 },
 "nbformat": 4,
 "nbformat_minor": 2
}

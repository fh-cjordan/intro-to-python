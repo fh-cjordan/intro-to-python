{
 "cells": [
  {
   "cell_type": "markdown",
   "metadata": {},
   "source": [
    "<b>Here are a number of useful, built-in libraries...</p>"
   ]
  },
  {
   "cell_type": "code",
   "execution_count": 13,
   "metadata": {},
   "outputs": [],
   "source": [
    "import collections\n",
    "import os\n",
    "import random\n",
    "import re\n",
    "import subprocess\n",
    "import sys"
   ]
  },
  {
   "cell_type": "markdown",
   "metadata": {},
   "source": [
    "<b>os and os.path are useful for navigating the operating system, building paths, etc.</b>"
   ]
  },
  {
   "cell_type": "code",
   "execution_count": 24,
   "metadata": {},
   "outputs": [
    {
     "name": "stdout",
     "output_type": "stream",
     "text": [
      "Current working directory: /home/cjordan/notebooks/FU Intro to Python\n",
      "What's my home directory? /home/cjordan\n",
      "Joined path: code/flatiron/blocks/blocks\n"
     ]
    }
   ],
   "source": [
    "print('Current working directory:', os.getcwd())\n",
    "print('What\\'s my home directory?', os.path.expanduser('~'))\n",
    "# This will build the correct path on Mac, Windows, or Linux...\n",
    "print('Joined path:', os.path.join('code', 'flatiron', 'blocks', 'blocks'))"
   ]
  },
  {
   "cell_type": "markdown",
   "metadata": {},
   "source": [
    "<b>Subprocess lets you run any shell subcommand. The easiest way to use it is...</b>"
   ]
  },
  {
   "cell_type": "code",
   "execution_count": 23,
   "metadata": {},
   "outputs": [
    {
     "data": {
      "text/plain": [
       "b'My name is...\\n'"
      ]
     },
     "execution_count": 23,
     "metadata": {},
     "output_type": "execute_result"
    }
   ],
   "source": [
    "subprocess.check_output(['echo', 'My name is...'])"
   ]
  },
  {
   "cell_type": "markdown",
   "metadata": {},
   "source": [
    "<b>Aaaand regex's are nice in Python</b>"
   ]
  },
  {
   "cell_type": "code",
   "execution_count": 19,
   "metadata": {},
   "outputs": [
    {
     "name": "stdout",
     "output_type": "stream",
     "text": [
      "Mary matches\n",
      "Mark matches\n"
     ]
    }
   ],
   "source": [
    "for name in ['Mary', 'Mark', 'Luke', 'John']:\n",
    "    if re.match(r'M.*', name):\n",
    "        print(name, 'matches')"
   ]
  },
  {
   "cell_type": "markdown",
   "metadata": {},
   "source": [
    "<b>And collections has some nifty utility classes that can save you time</b>"
   ]
  },
  {
   "cell_type": "code",
   "execution_count": 15,
   "metadata": {},
   "outputs": [
    {
     "name": "stdout",
     "output_type": "stream",
     "text": [
      "[(5, 13), (8, 12), (1, 12), (2, 11), (4, 10), (0, 9), (10, 8), (9, 7), (3, 7), (6, 6), (7, 5)]\n"
     ]
    }
   ],
   "source": [
    "counter = collections.Counter([random.randint(0, 10) for x in range(100)])\n",
    "print(counter.most_common())"
   ]
  }
 ],
 "metadata": {
  "kernelspec": {
   "display_name": "Python 3",
   "language": "python",
   "name": "python3"
  },
  "language_info": {
   "codemirror_mode": {
    "name": "ipython",
    "version": 3
   },
   "file_extension": ".py",
   "mimetype": "text/x-python",
   "name": "python",
   "nbconvert_exporter": "python",
   "pygments_lexer": "ipython3",
   "version": "3.6.7"
  }
 },
 "nbformat": 4,
 "nbformat_minor": 2
}

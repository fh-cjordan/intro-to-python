{
 "cells": [
  {
   "cell_type": "markdown",
   "metadata": {},
   "source": [
    "<h1>Welcome to your first IPython notebook!</h1>\n",
    "In this notebook, we will play with the basic Python data types, strings, numbers, and lists and other containers. To get started..."
   ]
  },
  {
   "cell_type": "markdown",
   "metadata": {},
   "source": [
    "<h2>Basic Types</h2>\n",
    "<b>Strings:</b>\n",
    "You have already seen strings in use... run the following cell, but try editing the message. When you print a message in a cell, it will be displayed below when you execute the cell."
   ]
  },
  {
   "cell_type": "code",
   "execution_count": 11,
   "metadata": {},
   "outputs": [
    {
     "name": "stdout",
     "output_type": "stream",
     "text": [
      "Welcome to Python!\n"
     ]
    }
   ],
   "source": [
    "print(\"Welcome to Python!\")"
   ]
  },
  {
   "cell_type": "markdown",
   "metadata": {},
   "source": [
    "You can also assign a string to a variable for later use:"
   ]
  },
  {
   "cell_type": "code",
   "execution_count": 32,
   "metadata": {},
   "outputs": [
    {
     "name": "stdout",
     "output_type": "stream",
     "text": [
      "Hello Insert your name here !\n"
     ]
    }
   ],
   "source": [
    "name = \"Insert your name here\"\n",
    "print(\"Hello\", name, \"!\")"
   ]
  },
  {
   "cell_type": "markdown",
   "metadata": {},
   "source": [
    "And strings can do all sorts of fun things."
   ]
  },
  {
   "cell_type": "code",
   "execution_count": 41,
   "metadata": {},
   "outputs": [
    {
     "name": "stdout",
     "output_type": "stream",
     "text": [
      "INSERT YOUR NAME HERE\n",
      "insert your name here\n",
      "Inser\n",
      "Insert your name hereInsert your name hereInsert your name here\n",
      "False\n"
     ]
    }
   ],
   "source": [
    "print(name.upper())\n",
    "print(name.lower())\n",
    "print(name[:5])\n",
    "print(name * 3)\n",
    "print(name.startswith(\"C\"))"
   ]
  },
  {
   "cell_type": "markdown",
   "metadata": {},
   "source": [
    "<b>Numbers:</b>\n",
    "Python can do a lot of common arithmetic right out-of-the-box."
   ]
  },
  {
   "cell_type": "code",
   "execution_count": 19,
   "metadata": {},
   "outputs": [
    {
     "name": "stdout",
     "output_type": "stream",
     "text": [
      "Five years ago I was... 38\n",
      "When I was half my age, I was... 21.5\n",
      "I'll have my next huge birthday party when I am... 50\n"
     ]
    }
   ],
   "source": [
    "# feel free to type your age here (or not!)\n",
    "age = 43\n",
    "\n",
    "# now, let's do some arithmetic\n",
    "print(\"Five years ago I was...\", age - 5)\n",
    "print(\"When I was half my age, I was...\", age / 2)\n",
    "print(\"I'll have my next huge birthday party when I am...\", age + 10 - age % 10)"
   ]
  },
  {
   "cell_type": "markdown",
   "metadata": {},
   "source": [
    "<b>Types</b>\n",
    "When you assign variables or print things, you are using <i>objects</i>, encapsulated bits of data. Objects behave in different ways, and in most languages, we define the behavior of an object by its <i>type</i>. We say, \"An object x is an <i>instance</i> of type X.\""
   ]
  },
  {
   "cell_type": "code",
   "execution_count": 21,
   "metadata": {},
   "outputs": [
    {
     "name": "stdout",
     "output_type": "stream",
     "text": [
      "<class 'str'>\n",
      "<class 'int'>\n",
      "<class 'float'>\n"
     ]
    }
   ],
   "source": [
    "# see the type of an object using the `type` function\n",
    "print(type(\"hello\"))\n",
    "print(type(5))\n",
    "print(type(5.5))"
   ]
  },
  {
   "cell_type": "markdown",
   "metadata": {},
   "source": [
    "You can reference types directly with the names printed out above, and you can do some fun things with them."
   ]
  },
  {
   "cell_type": "code",
   "execution_count": 31,
   "metadata": {},
   "outputs": [
    {
     "name": "stdout",
     "output_type": "stream",
     "text": [
      "Forcing an int to be a str: 57\n",
      "Forcing a float to be an int: 5\n",
      "Parse a string into a float and add: 6.5\n"
     ]
    }
   ],
   "source": [
    "print(\"Forcing an int to be a str:\", str(5) + str(7))\n",
    "print(\"Forcing a float to be an int:\", int(5.5))\n",
    "print(\"Parse a string into a float and add:\", float(\"5.5\") + 1)\n",
    "# try removing the casts above and see what happens, like this: str(5) -> 5"
   ]
  },
  {
   "cell_type": "markdown",
   "metadata": {},
   "source": [
    "<h2>Container Types</h2>\n",
    "<h3>Lists</h3>\n",
    "You'll encounter lists all the time. Lists hold an ordered collection of objects, just like in the real world."
   ]
  },
  {
   "cell_type": "code",
   "execution_count": 103,
   "metadata": {},
   "outputs": [
    {
     "name": "stdout",
     "output_type": "stream",
     "text": [
      "<class 'list'>\n",
      "['Peter', 'Paul', 'Mary']\n"
     ]
    }
   ],
   "source": [
    "patient_names = [\"Peter\", \"Paul\", \"Mary\"]\n",
    "print(type(patient_names))\n",
    "print(patient_names)"
   ]
  },
  {
   "cell_type": "markdown",
   "metadata": {},
   "source": [
    "And lists do all sorts of fun things too..."
   ]
  },
  {
   "cell_type": "code",
   "execution_count": 104,
   "metadata": {},
   "outputs": [
    {
     "name": "stdout",
     "output_type": "stream",
     "text": [
      "3\n",
      "The first patient is... Peter\n",
      "['Peter', 'Paul', 'Mary', 'Peter', 'Paul', 'Mary']\n",
      "True\n",
      "Peter, Paul, Mary\n",
      "['Peter', 'Paul', 'Mary', 'Jerry']\n"
     ]
    }
   ],
   "source": [
    "print(len(patient_names))\n",
    "print(\"The first patient is...\", patient_names[0])\n",
    "print(patient_names * 2)\n",
    "print(\"Mary\" in patient_names)\n",
    "# and an especially useful trick...\n",
    "print(\", \".join(patient_names))\n",
    "\n",
    "# Now add a patient to the list...\n",
    "patient_names.append(\"Jerry\")\n",
    "print(patient_names)\n",
    "# What happened? What happens if you re-run this cell again (and again...) (ctrl+enter)"
   ]
  },
  {
   "cell_type": "markdown",
   "metadata": {},
   "source": [
    "Lists also let us <i>iterate</i> over their items, letting us automate tasks:"
   ]
  },
  {
   "cell_type": "code",
   "execution_count": 105,
   "metadata": {},
   "outputs": [
    {
     "name": "stdout",
     "output_type": "stream",
     "text": [
      "Patient: Peter\n",
      "Patient: Paul\n",
      "Patient: Mary\n",
      "Patient: Jerry\n"
     ]
    }
   ],
   "source": [
    "for name in patient_names:\n",
    "    print(\"Patient:\", name)"
   ]
  },
  {
   "cell_type": "markdown",
   "metadata": {},
   "source": [
    "<b>TODO</b>"
   ]
  },
  {
   "cell_type": "code",
   "execution_count": 71,
   "metadata": {},
   "outputs": [
    {
     "ename": "SyntaxError",
     "evalue": "invalid syntax (<ipython-input-71-7965c4836d03>, line 2)",
     "output_type": "error",
     "traceback": [
      "\u001b[0;36m  File \u001b[0;32m\"<ipython-input-71-7965c4836d03>\"\u001b[0;36m, line \u001b[0;32m2\u001b[0m\n\u001b[0;31m    print(patient_names[?])\u001b[0m\n\u001b[0m                        ^\u001b[0m\n\u001b[0;31mSyntaxError\u001b[0m\u001b[0;31m:\u001b[0m invalid syntax\n"
     ]
    }
   ],
   "source": [
    "# 1.a. try to print the name of the 57th item in the list\n",
    "print(patient_names[?])\n",
    "# 1.b. okay, just kidding, after you've tried 57th, print the name of the last item (use the index -1)\n",
    "# 2. try to create a list from a string (like we created a string from an int with \"str(5)\")\n",
    "print(?)\n",
    "# 3. try to print out all of the patient_names as one string, separated by only spaces\n",
    "print(?)\n",
    "# 4. for each patient in the list, print out the upper case version of that patient's name\n",
    "# 5. go add a patient to the list above, re-run the cell you've changed, and then re-run this one. what happened?"
   ]
  },
  {
   "cell_type": "markdown",
   "metadata": {},
   "source": [
    "<h3>Dictionaries</h3> Dictionaries are containers that map an unordered set of unique <i>keys</i> to <i>values</i>."
   ]
  },
  {
   "cell_type": "code",
   "execution_count": 77,
   "metadata": {},
   "outputs": [
    {
     "name": "stdout",
     "output_type": "stream",
     "text": [
      "<class 'dict'>\n",
      "{'Peter': 57, 'Paul': 35, 'Mary': 44}\n"
     ]
    }
   ],
   "source": [
    "patient_to_age = {\n",
    "    \"Peter\": 57,\n",
    "    \"Paul\": 35,\n",
    "    \"Mary\": 44,\n",
    "}\n",
    "print(type(patient_to_age))\n",
    "print(patient_to_age)"
   ]
  },
  {
   "cell_type": "markdown",
   "metadata": {},
   "source": [
    "And just a few of the many tricks a dict can perform..."
   ]
  },
  {
   "cell_type": "code",
   "execution_count": 79,
   "metadata": {},
   "outputs": [
    {
     "name": "stdout",
     "output_type": "stream",
     "text": [
      "Peter's age: 57\n",
      "Number of patients: 4\n",
      "All keys: ['Peter', 'Paul', 'Mary', 'Peaches']\n",
      "All values: dict_values([57, 35, 44, 61])\n",
      "Now all patients: ['Peter', 'Paul', 'Mary', 'Peaches']\n"
     ]
    }
   ],
   "source": [
    "print(\"Peter's age:\", patient_to_age[\"Peter\"])\n",
    "print(\"Number of patients:\", len(patient_to_age))\n",
    "print(\"All keys:\", list(patient_to_age))\n",
    "print(\"All values:\", patient_to_age.values())\n",
    "\n",
    "# add a new patient, and then see what happened...\n",
    "patient_to_age[\"Peaches\"] = 61\n",
    "print(\"Now all patients:\", list(patient_to_age))\n",
    "# and what happens if you run this cell twice? (ctrl+enter)"
   ]
  },
  {
   "cell_type": "markdown",
   "metadata": {},
   "source": [
    "<b>TODO<b/>"
   ]
  },
  {
   "cell_type": "code",
   "execution_count": 87,
   "metadata": {},
   "outputs": [
    {
     "ename": "SyntaxError",
     "evalue": "invalid syntax (<ipython-input-87-511d78dcbcfd>, line 2)",
     "output_type": "error",
     "traceback": [
      "\u001b[0;36m  File \u001b[0;32m\"<ipython-input-87-511d78dcbcfd>\"\u001b[0;36m, line \u001b[0;32m2\u001b[0m\n\u001b[0;31m    print(patient_to_age[?])\u001b[0m\n\u001b[0m                         ^\u001b[0m\n\u001b[0;31mSyntaxError\u001b[0m\u001b[0;31m:\u001b[0m invalid syntax\n"
     ]
    }
   ],
   "source": [
    "# 1. What happens if you try to get the age of a patient that doesn't exist?\n",
    "print(patient_to_age[?])\n",
    "# 2. Hm. Okay, change the line above to use `get` instead of `[]`, e.g. replace \"[X]\" -> \".get(X)\"\n",
    "# 3. Trick question: print the age of the last patient in the dictionary\n",
    "print(patient_to_age[?])"
   ]
  },
  {
   "cell_type": "markdown",
   "metadata": {},
   "source": [
    "<h3>Functions</h3>\n",
    "<p>Functions are objects that can perform actions or transform input (think \"function\" in math, or also the \"function\" of a robot).</p>\n",
    "<p>To run a function, you <i>call</i> it with specific <i>arguments</i>: <b>return_value = function(arg1, arg2, arg3, ...)</b></p>\n",
    "<p>You've already seen several before:</p>"
   ]
  },
  {
   "cell_type": "code",
   "execution_count": 100,
   "metadata": {},
   "outputs": [
    {
     "name": "stdout",
     "output_type": "stream",
     "text": [
      "1\n",
      "<class 'list'>\n",
      "All the arguments\n",
      "One more time\n",
      "None\n"
     ]
    }
   ],
   "source": [
    "# `len` is a built-in function that takes a collection as argument and returns its length\n",
    "print(len([patient_names]))\n",
    "# `type` is too; it takes an object as argument and returns its type\n",
    "print(type(patient_names))\n",
    "# Even `print` is a function: it takes as many arguments as you pass in, returns NOTHING, but logs your input to the console\n",
    "print(\"All\", \"the\", \"arguments\")\n",
    "print(print(\"One more time\"))"
   ]
  },
  {
   "cell_type": "markdown",
   "metadata": {},
   "source": [
    "You can make an object do stuff too, by calling a function bound to that object. Technically, these functions are called <i>instance methods</i>. You've already used a couple of these too."
   ]
  },
  {
   "cell_type": "code",
   "execution_count": 101,
   "metadata": {},
   "outputs": [
    {
     "name": "stdout",
     "output_type": "stream",
     "text": [
      "insert your name here\n",
      "999\n",
      "None\n"
     ]
    }
   ],
   "source": [
    "# `str.lower`, when called on a string, will return the same string lowercase. \n",
    "# Think of this as, \"I've called this particular string's `lower` method.\n",
    "# The method implicitly takes the string itself as argument and returns a transformation of that string.\"\n",
    "print(name.lower())\n",
    "# `dict.get` takes the dict itself, a key, and a default as arguments, and it returns None if the key is not in the dict\n",
    "print(patient_to_age.get(\"Sandy Claws\", 999))\n",
    "# `list.append` takes the list itself and a new item as arguments, modifies the list, and returns NOTHING\n",
    "print(patient_names.append(\"Somebody new\"))"
   ]
  },
  {
   "cell_type": "markdown",
   "metadata": {},
   "source": [
    "<h4>Defining functions</h4>\n",
    "Python is great because it has TONS of defined functions. However, we can write our own, too! A function <i>declaration</i> defines a new function you can use, and it looks like this:"
   ]
  },
  {
   "cell_type": "code",
   "execution_count": 111,
   "metadata": {},
   "outputs": [
    {
     "name": "stdout",
     "output_type": "stream",
     "text": [
      "Hello!\n",
      "Help on function add_exclamation_mark in module __main__:\n",
      "\n",
      "add_exclamation_mark(string)\n",
      "    This is a special comment called a \"docstring\" that documents my function.\n",
      "    \n",
      "    This syntax helps third-party tools automate document creation...\n",
      "    it's optional and will change depending on which library you look at, but generally looks something like this.\n",
      "    @param str string: the input string we wish to transform\n",
      "    @return: the input string with \"!\" appended\n",
      "\n",
      "None\n"
     ]
    }
   ],
   "source": [
    "def add_exclamation_mark(string):\n",
    "    \"\"\"This is a special comment called a \"docstring\" that documents my function.\n",
    "    \n",
    "    This syntax helps third-party tools automate document creation...\n",
    "    it's optional and will change depending on which library you look at, but generally looks something like this.\n",
    "    @param str string: the input string we wish to transform\n",
    "    @return: the input string with \"!\" appended\n",
    "    \"\"\"\n",
    "    return string + \"!\"\n",
    "\n",
    "# now, let's use it!\n",
    "print(add_exclamation_mark(\"Hello\"))\n",
    "# and now, for the fancy fancy\n",
    "print(help(add_exclamation_mark))"
   ]
  },
  {
   "cell_type": "code",
   "execution_count": null,
   "metadata": {},
   "outputs": [],
   "source": []
  }
 ],
 "metadata": {
  "kernelspec": {
   "display_name": "Python 3",
   "language": "python",
   "name": "python3"
  },
  "language_info": {
   "codemirror_mode": {
    "name": "ipython",
    "version": 3
   },
   "file_extension": ".py",
   "mimetype": "text/x-python",
   "name": "python",
   "nbconvert_exporter": "python",
   "pygments_lexer": "ipython3",
   "version": "3.6.7"
  }
 },
 "nbformat": 4,
 "nbformat_minor": 2
}

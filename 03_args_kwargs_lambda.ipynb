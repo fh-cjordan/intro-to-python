{
 "cells": [
  {
   "cell_type": "markdown",
   "metadata": {},
   "source": [
    "<h2>Lambdas</h2>\n",
    "<b>Lambdas</b> are a concise syntax to write inline functions. They can take arguments like normal functions, and they automatically return the value of their expression. Let's look at some examples:"
   ]
  },
  {
   "cell_type": "code",
   "execution_count": null,
   "metadata": {},
   "outputs": [],
   "source": [
    "# a regular function...\n",
    "def add_one(x):\n",
    "    return x + 1\n",
    "\n",
    "# a lambda function...\n",
    "add_two = lambda x: x + 2\n",
    "\n",
    "# now let's see if they work differently\n",
    "print(add_one(3))\n",
    "print(add_two(3))\n",
    "print(add_one)\n",
    "print(add_two)"
   ]
  },
  {
   "cell_type": "markdown",
   "metadata": {},
   "source": [
    "Lambdas are often most useful when you just need to pass a minor function to another routine."
   ]
  },
  {
   "cell_type": "code",
   "execution_count": null,
   "metadata": {},
   "outputs": [],
   "source": [
    "from functools import reduce\n",
    "numbers = [1, 2, 3, 4]\n",
    "total = reduce(lambda x, y: x + y, numbers)\n",
    "print(total)"
   ]
  },
  {
   "cell_type": "markdown",
   "metadata": {},
   "source": [
    "<b>TODO</b>: Modify the cell above to print the cumulative <i>product</i> rather than <i>sum</i>."
   ]
  },
  {
   "cell_type": "raw",
   "metadata": {},
   "source": [
    "<h2>*args</h2>\n",
    "We have a simple function to add two numbers.\n",
    "But it's difficult to read when we repeat this several times!"
   ]
  },
  {
   "cell_type": "code",
   "execution_count": null,
   "metadata": {},
   "outputs": [],
   "source": [
    "def add(x, y):\n",
    "    return x + y\n",
    "\n",
    "print(add(1, 2))\n",
    "print(add(add(add(1, 2), 4), 5))"
   ]
  },
  {
   "cell_type": "markdown",
   "metadata": {},
   "source": [
    "It'd be much nicer if this function took as many arguments as we pass, and add them all together.\n",
    "We can do this with `*args`!"
   ]
  },
  {
   "cell_type": "code",
   "execution_count": null,
   "metadata": {},
   "outputs": [],
   "source": [
    "add(1, 2, 3)"
   ]
  },
  {
   "cell_type": "code",
   "execution_count": null,
   "metadata": {},
   "outputs": [],
   "source": [
    "def add_all(*args):\n",
    "    sum_ = 0\n",
    "    for arg in args:\n",
    "        sum_ += arg\n",
    "    return sum_"
   ]
  },
  {
   "cell_type": "code",
   "execution_count": null,
   "metadata": {},
   "outputs": [],
   "source": [
    "add_all(1, 2, 3, 4, 5)"
   ]
  },
  {
   "cell_type": "markdown",
   "metadata": {},
   "source": [
    "<b>TODO</b>: Can you implement the `add_all` function in one-line, without using a for-loop?"
   ]
  },
  {
   "cell_type": "markdown",
   "metadata": {},
   "source": [
    "<h2>**kwargs</h2>\n",
    "Other times, a function might want to take a variable number of named key-value arguments, perhaps to pass them to another function or simply for convenience. It looks like this:"
   ]
  },
  {
   "cell_type": "code",
   "execution_count": null,
   "metadata": {},
   "outputs": [],
   "source": [
    "def print_key_value_pairs(**kwargs):\n",
    "    # kwargs is a dictionary\n",
    "    for key in kwargs:\n",
    "        print(key, kwargs[key])"
   ]
  },
  {
   "cell_type": "code",
   "execution_count": null,
   "metadata": {},
   "outputs": [],
   "source": [
    "# and we use it like this\n",
    "print_key_value_pairs(a=5, b=3)"
   ]
  },
  {
   "cell_type": "code",
   "execution_count": null,
   "metadata": {},
   "outputs": [],
   "source": [
    "# A more practical example involves wrapping another function\n",
    "def print_key_value_wrapper(verbose=True, **kwargs):\n",
    "    if verbose:\n",
    "        print_key_value_pairs(**kwargs)\n",
    "\n",
    "# TODO: Try changing the value of verbose...\n",
    "print_key_value_wrapper(True, a=5, b=3)"
   ]
  },
  {
   "cell_type": "code",
   "execution_count": null,
   "metadata": {},
   "outputs": [],
   "source": []
  }
 ],
 "metadata": {
  "kernelspec": {
   "display_name": "[sys] py36-scientific",
   "language": "python",
   "name": "py36-sci"
  },
  "language_info": {
   "codemirror_mode": {
    "name": "ipython",
    "version": 3
   },
   "file_extension": ".py",
   "mimetype": "text/x-python",
   "name": "python",
   "nbconvert_exporter": "python",
   "pygments_lexer": "ipython3",
   "version": "3.6.5"
  }
 },
 "nbformat": 4,
 "nbformat_minor": 2
}

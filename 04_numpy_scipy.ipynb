{
 "cells": [
  {
   "cell_type": "markdown",
   "metadata": {},
   "source": [
    "<h1>Useful Analysis Libaries</h1>\n",
    "<b>numpy</b> is useful for doing all sorts of numerical analysis, including linear algebra and statistics.\n",
    "<br/>\n",
    "<b>scipy</b> and <b>sklearn</b> uses numpy types and includes more advanced utilities, like machine learning.\n",
    "<br/>\n",
    "<b>pandas</b> has useful utilities for querying tables loaded from CSVs or even from sqlite."
   ]
  },
  {
   "cell_type": "code",
   "execution_count": null,
   "metadata": {},
   "outputs": [],
   "source": [
    "import numpy\n",
    "import os\n",
    "import scipy\n",
    "import pandas"
   ]
  },
  {
   "cell_type": "code",
   "execution_count": null,
   "metadata": {},
   "outputs": [],
   "source": [
    "with open(os.path.join('data/examples.csv')) as f:\n",
    "    data_frame = pandas.read_csv(f)"
   ]
  },
  {
   "cell_type": "code",
   "execution_count": null,
   "metadata": {},
   "outputs": [],
   "source": [
    "data_frame"
   ]
  },
  {
   "cell_type": "code",
   "execution_count": null,
   "metadata": {},
   "outputs": [],
   "source": [
    "print('Patients per state:', data_frame.groupby('state').fpid.count())\n",
    "print('Average age per state:', data_frame.groupby('state').age.mean())"
   ]
  },
  {
   "cell_type": "markdown",
   "metadata": {},
   "source": [
    "Or, use numpy to do some crazy stuff"
   ]
  },
  {
   "cell_type": "code",
   "execution_count": null,
   "metadata": {},
   "outputs": [],
   "source": [
    "points = numpy.random.rand(3, 10)\n",
    "u, s, vh = numpy.linalg.svd(points)\n",
    "print(\"Eigenvectors:\", u)\n",
    "print(\"Eigenvalues:\", s)"
   ]
  }
 ],
 "metadata": {
  "kernelspec": {
   "display_name": "[sys] py36-scientific",
   "language": "python",
   "name": "py36-sci"
  },
  "language_info": {
   "codemirror_mode": {
    "name": "ipython",
    "version": 3
   },
   "file_extension": ".py",
   "mimetype": "text/x-python",
   "name": "python",
   "nbconvert_exporter": "python",
   "pygments_lexer": "ipython3",
   "version": "3.6.5"
  }
 },
 "nbformat": 4,
 "nbformat_minor": 2
}

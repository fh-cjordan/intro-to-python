{
 "cells": [
  {
   "cell_type": "markdown",
   "metadata": {},
   "source": [
    "<h1>Handy Python libraries</h1>"
   ]
  },
  {
   "cell_type": "markdown",
   "metadata": {},
   "source": [
    "The Python ecosystem includes many libraries which define useful functions and classes. Before you use them, you need to import them (in iPy notebooks as well as in scripts)."
   ]
  },
  {
   "cell_type": "code",
   "execution_count": null,
   "metadata": {},
   "outputs": [],
   "source": [
    "import os\n",
    "import sys"
   ]
  },
  {
   "cell_type": "markdown",
   "metadata": {},
   "source": [
    "Now, I can use things from this library using the `.` syntax. <b>os</b> and <b>os.path</b> are useful for navigating around the operating system."
   ]
  },
  {
   "cell_type": "code",
   "execution_count": null,
   "metadata": {},
   "outputs": [],
   "source": [
    "print(\"Current working directory:\", os.getcwd())\n",
    "print(\"My home directory:\", os.path.expanduser(\"~\"))\n",
    "# This will build the correct path on Mac, Windows, or Linux...\n",
    "print('Joined path:', os.path.join('code', 'flatiron', 'blocks', 'blocks'))\n",
    "\n",
    "# This python instance (or script) was launched with the following command-line arguments\n",
    "print(sys.argv)"
   ]
  },
  {
   "cell_type": "markdown",
   "metadata": {},
   "source": [
    "Sometimes, I want to use a library, but I only want to use one thing from it, or it's name is very unweildy, so I can modify my import statement. <b>random</b> has some nifty randomization utilities. <b>subprocess</b> lets us execute shell commands from within Python."
   ]
  },
  {
   "cell_type": "code",
   "execution_count": null,
   "metadata": {},
   "outputs": [],
   "source": [
    "from random import randint\n",
    "import subprocess\n",
    "# but.. I don't like typing \"subprocess\" every time, so...\n",
    "# NOTE: You'll see this, but generally we try to avoid it so that someone else reading our code can more quickly recognize what libraries\n",
    "# we're using, at the point at which we use them\n",
    "import subprocess as sp\n",
    "\n",
    "print(\"A random number:\", randint(0, 10))\n",
    "\n",
    "# check_output will run the command and return the STDOUT. It throws an exception if the command returns with code != 0\n",
    "print(subprocess.check_output([\"echo\", \"What's my name.. what's my name\"]))\n",
    "# but because we used \"as sp\" above, we can just write\n",
    "print(sp.check_output([\"whoami\"]))"
   ]
  },
  {
   "cell_type": "markdown",
   "metadata": {},
   "source": [
    "Aaaand regex's are nice in Python. We use <b>re</b> to compute regex matches."
   ]
  },
  {
   "cell_type": "code",
   "execution_count": null,
   "metadata": {},
   "outputs": [],
   "source": [
    "import re\n",
    "\n",
    "patient_names = ['Mary', 'Mark', 'Luke', 'John']\n",
    "for name in patient_names:\n",
    "    if re.match(r'M.*', name):\n",
    "        print(name, 'matches')"
   ]
  },
  {
   "cell_type": "markdown",
   "metadata": {},
   "source": [
    "<b>And collections has some nifty utility classes that can save you time</b>"
   ]
  },
  {
   "cell_type": "code",
   "execution_count": null,
   "metadata": {},
   "outputs": [],
   "source": [
    "import csv\n",
    "with open('data/examples.csv') as csv_fd:\n",
    "    reader = csv.reader(csv_fd, delimiter=',')\n",
    "    header = next(reader)\n",
    "    print('HEADER', header)\n",
    "    for row in reader:\n",
    "        print(row)"
   ]
  },
  {
   "cell_type": "code",
   "execution_count": null,
   "metadata": {},
   "outputs": [],
   "source": [
    "with open('data/examples.csv') as csv_fd:\n",
    "    reader = csv.DictReader(csv_fd)\n",
    "    for row in reader:\n",
    "        print(row)"
   ]
  },
  {
   "cell_type": "code",
   "execution_count": null,
   "metadata": {},
   "outputs": [],
   "source": [
    "import collections\n",
    "from random import randint\n",
    "\n",
    "counter = collections.Counter([randint(0, 10) for x in range(100)])\n",
    "print(counter.most_common())\n",
    "\n",
    "ages_per_state = collections.defaultdict(list)\n",
    "with open('data/examples.csv') as csv_fd:\n",
    "    reader = csv.DictReader(csv_fd)\n",
    "    for row in reader:\n",
    "        ages_per_state[row['state']].append(row['age'])\n",
    "print(ages_per_state)"
   ]
  },
  {
   "cell_type": "code",
   "execution_count": null,
   "metadata": {},
   "outputs": [],
   "source": [
    "# there are tons more!! Python packages are hosted on https://pypi.org/\n",
    "# https://pypistats.org/top\n",
    "# https://www.ubuntupit.com/best-python-libraries-and-packages-for-beginners/"
   ]
  }
 ],
 "metadata": {
  "kernelspec": {
   "display_name": "Python 3",
   "language": "python",
   "name": "python3"
  },
  "language_info": {
   "codemirror_mode": {
    "name": "ipython",
    "version": 3
   },
   "file_extension": ".py",
   "mimetype": "text/x-python",
   "name": "python",
   "nbconvert_exporter": "python",
   "pygments_lexer": "ipython3",
   "version": "3.6.10"
  }
 },
 "nbformat": 4,
 "nbformat_minor": 2
}
